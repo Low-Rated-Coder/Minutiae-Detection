{
 "cells": [
  {
   "cell_type": "code",
   "execution_count": 10,
   "metadata": {
    "collapsed": true
   },
   "outputs": [],
   "source": [
    "# Importing libraries ....\n",
    "import matplotlib\n",
    "import matplotlib.pyplot as plt\n",
    "import skimage.io as io"
   ]
  },
  {
   "cell_type": "code",
   "execution_count": 11,
   "metadata": {
    "collapsed": true
   },
   "outputs": [],
   "source": [
    "# Converting Image to Greyscale ....\n",
    "from PIL import Image,ImageDraw\n",
    "img = Image.open('thinned_image.gif').convert('L')\n",
    "img.save('thinned_greyscale.gif')\n",
    "\n",
    "# Loading Image ....\n",
    "Img_Original = io.imread('thinned_greyscale.gif')"
   ]
  },
  {
   "cell_type": "code",
   "execution_count": 12,
   "metadata": {
    "collapsed": true
   },
   "outputs": [],
   "source": [
    "# To reach different pixels from given pixel ....\n",
    "\n",
    "cells = [(-1, -1), (-1, 0), (-1, 1), (0, 1), (1, 1), (1, 0), (1, -1), (0, -1), (-1, -1)]"
   ]
  },
  {
   "cell_type": "code",
   "execution_count": 13,
   "metadata": {
    "collapsed": true
   },
   "outputs": [],
   "source": [
    "# Function to determine type of minutiae at pixel P(i,j) ....\n",
    "\n",
    "def minutiae_at(pixels, i, j):\n",
    "    values = [pixels[i + k][j + l] for k, l in cells]\n",
    "\n",
    "    crossings = 0\n",
    "    for k in range(0, 8):\n",
    "        crossings += abs(values[k] - values[k + 1])\n",
    "    crossings /= 2\n",
    "\n",
    "    if pixels[i][j] == 1:\n",
    "        if crossings == 1:\n",
    "            return \"ending\"\n",
    "        if crossings == 3:\n",
    "            return \"bifurcation\"\n",
    "    return \"none\""
   ]
  },
  {
   "cell_type": "code",
   "execution_count": 14,
   "metadata": {
    "collapsed": true
   },
   "outputs": [],
   "source": [
    "# Function to convert the image into pixels ....\n",
    "\n",
    "def load_image(im):\n",
    "    (x,y) = im.size\n",
    "    im_load = im.load()\n",
    "\n",
    "    result = []\n",
    "    for i in range(0, x):\n",
    "        result.append([])\n",
    "        for j in range(0, y):\n",
    "            result[i].append(im_load[i, j])\n",
    "\n",
    "    return result"
   ]
  },
  {
   "cell_type": "code",
   "execution_count": 15,
   "metadata": {
    "collapsed": true
   },
   "outputs": [],
   "source": [
    "# Function to apply particular property to each pixel ....\n",
    "\n",
    "def apply_to_each_pixel(pixels, f):\n",
    "    for i in range(0, len(pixels)):\n",
    "        for j in range(0, len(pixels[i])):\n",
    "            pixels[i][j] = f(pixels[i][j])"
   ]
  },
  {
   "cell_type": "code",
   "execution_count": 16,
   "metadata": {
    "collapsed": true
   },
   "outputs": [],
   "source": [
    "# Function to show minutiae on the image ....\n",
    "\n",
    "def show_minutiaes(im):\n",
    "    pixels = load_image(im)\n",
    "    apply_to_each_pixel(pixels, lambda x: 0.0 if x > 10 else 1.0)\n",
    "\n",
    "    (x, y) = im.size\n",
    "    result = im.convert(\"RGB\")\n",
    "\n",
    "    draw = ImageDraw.Draw(result)\n",
    "\n",
    "    colors = {\"ending\" : (150, 0, 0), \"bifurcation\" : (0, 150, 0)}\n",
    "\n",
    "    ellipse_size = 2\n",
    "    for i in range(1, x - 1):\n",
    "        for j in range(1, y - 1):\n",
    "            minutiae = minutiae_at(pixels, i, j)\n",
    "            if minutiae != \"none\":\n",
    "                draw.ellipse([(i - ellipse_size, j - ellipse_size), (i + ellipse_size, j + ellipse_size)], outline = colors[minutiae])\n",
    "\n",
    "    del draw\n",
    "\n",
    "    return result"
   ]
  },
  {
   "cell_type": "code",
   "execution_count": 17,
   "metadata": {},
   "outputs": [],
   "source": [
    "# Applying Minutiae Detection Algorithm to image ....\n",
    "Minutiae_Image = show_minutiaes(img)"
   ]
  },
  {
   "cell_type": "code",
   "execution_count": 18,
   "metadata": {},
   "outputs": [
    {
     "data": {
      "image/png": "[encoded data removed]",
      "text/plain": [
       "<matplotlib.figure.Figure at 0x243daa6f2b0>"
      ]
     },
     "metadata": {},
     "output_type": "display_data"
    }
   ],
   "source": [
    "# Displaying the results ....\n",
    "fig, ax = plt.subplots(1, 2)\n",
    "ax1, ax2 = ax.ravel()\n",
    "ax1.imshow(Img_Original, cmap=plt.cm.gray)\n",
    "ax1.set_title('Original image')\n",
    "ax1.axis('off')\n",
    "ax2.imshow(Minutiae_Image, cmap=plt.cm.gray)\n",
    "ax2.set_title('Minutiae in the image')\n",
    "ax2.axis('off')\n",
    "plt.show()"
   ]
  },
  {
   "cell_type": "code",
   "execution_count": 20,
   "metadata": {},
   "outputs": [],
   "source": [
    "# Saving the image ....\n",
    "Minutiae_Image.save('minutiae_image.gif')"
   ]
  }
 ],
 "metadata": {
  "kernelspec": {
   "display_name": "Python 3",
   "language": "python",
   "name": "python3"
  },
  "language_info": {
   "codemirror_mode": {
    "name": "ipython",
    "version": 3
   },
   "file_extension": ".py",
   "mimetype": "text/x-python",
   "name": "python",
   "nbconvert_exporter": "python",
   "pygments_lexer": "ipython3",
   "version": "3.6.3"
  }
 },
 "nbformat": 4,
 "nbformat_minor": 2
}
